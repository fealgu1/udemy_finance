{
 "cells": [
  {
   "cell_type": "markdown",
   "metadata": {},
   "source": [
    "# Black Scholes Option Pricing"
   ]
  },
  {
   "cell_type": "code",
   "execution_count": 2,
   "metadata": {},
   "outputs": [],
   "source": [
    "from math import sqrt, exp, log, erf\n",
    "from decimal import *\n",
    "getcontext().prec = 5"
   ]
  },
  {
   "cell_type": "markdown",
   "metadata": {},
   "source": [
    "### Inputs"
   ]
  },
  {
   "cell_type": "code",
   "execution_count": 3,
   "metadata": {},
   "outputs": [
    {
     "name": "stdout",
     "output_type": "stream",
     "text": [
      "Current Stock Price?: 100\n",
      "Strike Price?: 105\n",
      "Days to Expiration?: 30\n",
      "Current Interest Rate?: .01\n",
      "Sigma?: 1\n",
      "Dividend Rate?: 0\n"
     ]
    }
   ],
   "source": [
    "undprice = float(input(\"Current Stock Price?: \"))   # S\n",
    "strike = float(input(\"Strike Price?: \"))            # K\n",
    "time = float(input(\"Days to Expiration?: \"))        # time until expiration in days\n",
    "rate = float(input(\"Current Interest Rate?: \"))     # Annualized risk free rate\n",
    "sigma = float(input(\"Sigma?: \"))                    # Standard Deviation of stock's returns\n",
    "divrate = float(input(\"Dividend Rate?: \"))          # Dividend yield on stock"
   ]
  },
  {
   "cell_type": "code",
   "execution_count": null,
   "metadata": {},
   "outputs": [],
   "source": [
    "### Statistics\n"
   ]
  },
  {
   "cell_type": "code",
   "execution_count": 7,
   "metadata": {},
   "outputs": [],
   "source": [
    "#statistics\n",
    "sigTsquared = sqrt(Decimal(time)/365)*sigma\n",
    "edivT = exp((-divrate*time)/365)\n",
    "ert = exp((-rate*time)/365)\n",
    "d1 = (log(undprice*edivT/strike)+(rate+.5*(sigma**2))*time/365)/sigTsquared\n",
    "d2 = d1-sigTsquared\n",
    "Nd1 = (1+erf(d1/sqrt(2)))/2\n",
    "Nd2 = (1+erf(d2/sqrt(2)))/2\n",
    "iNd1 = (1+erf(-d1/sqrt(2)))/2\n",
    "iNd2 = (1+erf(-d2/sqrt(2)))/2"
   ]
  },
  {
   "cell_type": "markdown",
   "metadata": {},
   "source": [
    "### Outputs"
   ]
  },
  {
   "cell_type": "code",
   "execution_count": 8,
   "metadata": {},
   "outputs": [],
   "source": [
    "callPrice = round(undprice*edivT*Nd1-strike*ert*Nd2, 2)\n",
    "putPrice = round(strike*ert*iNd2-undprice*edivT*iNd1, 2)"
   ]
  },
  {
   "cell_type": "markdown",
   "metadata": {},
   "source": [
    "### Operations"
   ]
  },
  {
   "cell_type": "code",
   "execution_count": 9,
   "metadata": {},
   "outputs": [
    {
     "name": "stdout",
     "output_type": "stream",
     "text": [
      "Call Price = 9.38\n",
      "Put Price = 14.3\n"
     ]
    }
   ],
   "source": [
    "print(\"Call Price = \" + str(callPrice) )\n",
    "print(\"Put Price = \" + str(putPrice) )"
   ]
  },
  {
   "cell_type": "code",
   "execution_count": null,
   "metadata": {},
   "outputs": [],
   "source": []
  }
 ],
 "metadata": {
  "kernelspec": {
   "display_name": "Python 3",
   "language": "python",
   "name": "python3"
  },
  "language_info": {
   "codemirror_mode": {
    "name": "ipython",
    "version": 3
   },
   "file_extension": ".py",
   "mimetype": "text/x-python",
   "name": "python",
   "nbconvert_exporter": "python",
   "pygments_lexer": "ipython3",
   "version": "3.6.8"
  }
 },
 "nbformat": 4,
 "nbformat_minor": 2
}
