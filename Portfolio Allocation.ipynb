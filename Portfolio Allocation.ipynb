{
 "cells": [
  {
   "cell_type": "markdown",
   "metadata": {},
   "source": [
    "### Portfolio Alloction & Sharpe Ration Code"
   ]
  },
  {
   "cell_type": "code",
   "execution_count": 222,
   "metadata": {},
   "outputs": [
    {
     "name": "stdout",
     "output_type": "stream",
     "text": [
      "[*********************100%***********************]  4 of 4 completed\n"
     ]
    }
   ],
   "source": [
    "import pandas as pd\n",
    "from pandas_datareader import data as pdr\n",
    "import matplotlib.pyplot as plt\n",
    "import datetime\n",
    "#%pyplot inline\n",
    "import yfinance as yf\n",
    "yf.pdr_override() # <== that's all it takes :-)\n",
    "tic = ['AAPL', 'CSCO', 'IBM', 'AMZN' ]\n",
    "# download dataframe using pandas_datareader\n",
    "data = pdr.get_data_yahoo(tic, start=\"2012-01-01\", end=\"2027-01-01\")"
   ]
  },
  {
   "cell_type": "code",
   "execution_count": 223,
   "metadata": {},
   "outputs": [],
   "source": [
    "app = data['Adj Close']['AAPL']\n",
    "cisco = data['Adj Close']['CSCO']\n",
    "IBM = data['Adj Close']['IBM']\n",
    "AMZN = data['Adj Close']['AMZN']"
   ]
  },
  {
   "cell_type": "code",
   "execution_count": null,
   "metadata": {},
   "outputs": [],
   "source": [
    "\n",
    "    \n",
    "    "
   ]
  },
  {
   "cell_type": "code",
   "execution_count": 224,
   "metadata": {},
   "outputs": [],
   "source": [
    "app = pd.DataFrame(app)\n",
    "cisco = pd.DataFrame(cisco)\n",
    "IBM = pd.DataFrame(IBM)\n",
    "AMZN = pd.DataFrame(AMZN)\n",
    "#app.set_index('Date', inplace = True)"
   ]
  },
  {
   "cell_type": "code",
   "execution_count": 225,
   "metadata": {},
   "outputs": [],
   "source": [
    "app['Adj Close'] = app['AAPL']\n",
    "cisco['Adj Close'] = cisco['CSCO']\n",
    "IBM['Adj Close'] = IBM['IBM']\n",
    "AMZN['Adj Close'] = AMZN['AMZN']"
   ]
  },
  {
   "cell_type": "code",
   "execution_count": 226,
   "metadata": {},
   "outputs": [],
   "source": [
    "for i in (app, cisco, IBM,AMZN):\n",
    "    i['NormReturn'] = i['Adj Close']/i.iloc[0]['Adj Close']"
   ]
  },
  {
   "cell_type": "code",
   "execution_count": 227,
   "metadata": {},
   "outputs": [
    {
     "data": {
      "text/html": [
       "<div>\n",
       "<style scoped>\n",
       "    .dataframe tbody tr th:only-of-type {\n",
       "        vertical-align: middle;\n",
       "    }\n",
       "\n",
       "    .dataframe tbody tr th {\n",
       "        vertical-align: top;\n",
       "    }\n",
       "\n",
       "    .dataframe thead th {\n",
       "        text-align: right;\n",
       "    }\n",
       "</style>\n",
       "<table border=\"1\" class=\"dataframe\">\n",
       "  <thead>\n",
       "    <tr style=\"text-align: right;\">\n",
       "      <th></th>\n",
       "      <th>Adj Close</th>\n",
       "      <th>NormReturn</th>\n",
       "    </tr>\n",
       "    <tr>\n",
       "      <th>Date</th>\n",
       "      <th></th>\n",
       "      <th></th>\n",
       "    </tr>\n",
       "  </thead>\n",
       "  <tbody>\n",
       "    <tr>\n",
       "      <th>2012-01-03</th>\n",
       "      <td>179.029999</td>\n",
       "      <td>1.000000</td>\n",
       "    </tr>\n",
       "    <tr>\n",
       "      <th>2012-01-04</th>\n",
       "      <td>177.509995</td>\n",
       "      <td>0.991510</td>\n",
       "    </tr>\n",
       "    <tr>\n",
       "      <th>2012-01-05</th>\n",
       "      <td>177.610001</td>\n",
       "      <td>0.992068</td>\n",
       "    </tr>\n",
       "    <tr>\n",
       "      <th>2012-01-06</th>\n",
       "      <td>182.610001</td>\n",
       "      <td>1.019997</td>\n",
       "    </tr>\n",
       "    <tr>\n",
       "      <th>2012-01-09</th>\n",
       "      <td>178.559998</td>\n",
       "      <td>0.997375</td>\n",
       "    </tr>\n",
       "    <tr>\n",
       "      <th>...</th>\n",
       "      <td>...</td>\n",
       "      <td>...</td>\n",
       "    </tr>\n",
       "    <tr>\n",
       "      <th>2020-05-22</th>\n",
       "      <td>2436.879883</td>\n",
       "      <td>13.611573</td>\n",
       "    </tr>\n",
       "    <tr>\n",
       "      <th>2020-05-26</th>\n",
       "      <td>2421.860107</td>\n",
       "      <td>13.527678</td>\n",
       "    </tr>\n",
       "    <tr>\n",
       "      <th>2020-05-27</th>\n",
       "      <td>2410.389893</td>\n",
       "      <td>13.463609</td>\n",
       "    </tr>\n",
       "    <tr>\n",
       "      <th>2020-05-28</th>\n",
       "      <td>2401.100098</td>\n",
       "      <td>13.411719</td>\n",
       "    </tr>\n",
       "    <tr>\n",
       "      <th>2020-05-29</th>\n",
       "      <td>2407.060059</td>\n",
       "      <td>13.445010</td>\n",
       "    </tr>\n",
       "  </tbody>\n",
       "</table>\n",
       "<p>2115 rows × 2 columns</p>\n",
       "</div>"
      ],
      "text/plain": [
       "              Adj Close  NormReturn\n",
       "Date                               \n",
       "2012-01-03   179.029999    1.000000\n",
       "2012-01-04   177.509995    0.991510\n",
       "2012-01-05   177.610001    0.992068\n",
       "2012-01-06   182.610001    1.019997\n",
       "2012-01-09   178.559998    0.997375\n",
       "...                 ...         ...\n",
       "2020-05-22  2436.879883   13.611573\n",
       "2020-05-26  2421.860107   13.527678\n",
       "2020-05-27  2410.389893   13.463609\n",
       "2020-05-28  2401.100098   13.411719\n",
       "2020-05-29  2407.060059   13.445010\n",
       "\n",
       "[2115 rows x 2 columns]"
      ]
     },
     "execution_count": 227,
     "metadata": {},
     "output_type": "execute_result"
    }
   ],
   "source": [
    "app.drop(['AAPL'], axis = 1)\n",
    "cisco.drop(['CSCO'], axis = 1)\n",
    "IBM.drop(['IBM'], axis =1)\n",
    "AMZN.drop(['AMZN'], axis = 1)"
   ]
  },
  {
   "cell_type": "markdown",
   "metadata": {},
   "source": [
    "### Porfolio Allocation\n",
    "* 30% Apple\n",
    "* 20% Cisco\n",
    "* 40% Amazon\n",
    "* 10% IBM"
   ]
  },
  {
   "cell_type": "code",
   "execution_count": 228,
   "metadata": {},
   "outputs": [],
   "source": [
    "for i, j in zip((app, cisco, IBM,AMZN), [.3,.2,.4, .1]):\n",
    "    i['Allocation'] = i['NormReturn']*j"
   ]
  },
  {
   "cell_type": "code",
   "execution_count": 229,
   "metadata": {},
   "outputs": [
    {
     "data": {
      "text/html": [
       "<div>\n",
       "<style scoped>\n",
       "    .dataframe tbody tr th:only-of-type {\n",
       "        vertical-align: middle;\n",
       "    }\n",
       "\n",
       "    .dataframe tbody tr th {\n",
       "        vertical-align: top;\n",
       "    }\n",
       "\n",
       "    .dataframe thead th {\n",
       "        text-align: right;\n",
       "    }\n",
       "</style>\n",
       "<table border=\"1\" class=\"dataframe\">\n",
       "  <thead>\n",
       "    <tr style=\"text-align: right;\">\n",
       "      <th></th>\n",
       "      <th>AAPL</th>\n",
       "      <th>Adj Close</th>\n",
       "      <th>NormReturn</th>\n",
       "      <th>Allocation</th>\n",
       "    </tr>\n",
       "    <tr>\n",
       "      <th>Date</th>\n",
       "      <th></th>\n",
       "      <th></th>\n",
       "      <th></th>\n",
       "      <th></th>\n",
       "    </tr>\n",
       "  </thead>\n",
       "  <tbody>\n",
       "    <tr>\n",
       "      <th>2012-01-03</th>\n",
       "      <td>50.857235</td>\n",
       "      <td>50.857235</td>\n",
       "      <td>1.000000</td>\n",
       "      <td>0.300000</td>\n",
       "    </tr>\n",
       "    <tr>\n",
       "      <th>2012-01-04</th>\n",
       "      <td>51.130558</td>\n",
       "      <td>51.130558</td>\n",
       "      <td>1.005374</td>\n",
       "      <td>0.301612</td>\n",
       "    </tr>\n",
       "    <tr>\n",
       "      <th>2012-01-05</th>\n",
       "      <td>51.698215</td>\n",
       "      <td>51.698215</td>\n",
       "      <td>1.016536</td>\n",
       "      <td>0.304961</td>\n",
       "    </tr>\n",
       "    <tr>\n",
       "      <th>2012-01-06</th>\n",
       "      <td>52.238651</td>\n",
       "      <td>52.238651</td>\n",
       "      <td>1.027163</td>\n",
       "      <td>0.308149</td>\n",
       "    </tr>\n",
       "    <tr>\n",
       "      <th>2012-01-09</th>\n",
       "      <td>52.155792</td>\n",
       "      <td>52.155792</td>\n",
       "      <td>1.025533</td>\n",
       "      <td>0.307660</td>\n",
       "    </tr>\n",
       "    <tr>\n",
       "      <th>...</th>\n",
       "      <td>...</td>\n",
       "      <td>...</td>\n",
       "      <td>...</td>\n",
       "      <td>...</td>\n",
       "    </tr>\n",
       "    <tr>\n",
       "      <th>2020-05-22</th>\n",
       "      <td>318.890015</td>\n",
       "      <td>318.890015</td>\n",
       "      <td>6.270298</td>\n",
       "      <td>1.881089</td>\n",
       "    </tr>\n",
       "    <tr>\n",
       "      <th>2020-05-26</th>\n",
       "      <td>316.730011</td>\n",
       "      <td>316.730011</td>\n",
       "      <td>6.227826</td>\n",
       "      <td>1.868348</td>\n",
       "    </tr>\n",
       "    <tr>\n",
       "      <th>2020-05-27</th>\n",
       "      <td>318.109985</td>\n",
       "      <td>318.109985</td>\n",
       "      <td>6.254960</td>\n",
       "      <td>1.876488</td>\n",
       "    </tr>\n",
       "    <tr>\n",
       "      <th>2020-05-28</th>\n",
       "      <td>318.250000</td>\n",
       "      <td>318.250000</td>\n",
       "      <td>6.257713</td>\n",
       "      <td>1.877314</td>\n",
       "    </tr>\n",
       "    <tr>\n",
       "      <th>2020-05-29</th>\n",
       "      <td>318.690002</td>\n",
       "      <td>318.690002</td>\n",
       "      <td>6.266365</td>\n",
       "      <td>1.879910</td>\n",
       "    </tr>\n",
       "  </tbody>\n",
       "</table>\n",
       "<p>2115 rows × 4 columns</p>\n",
       "</div>"
      ],
      "text/plain": [
       "                  AAPL   Adj Close  NormReturn  Allocation\n",
       "Date                                                      \n",
       "2012-01-03   50.857235   50.857235    1.000000    0.300000\n",
       "2012-01-04   51.130558   51.130558    1.005374    0.301612\n",
       "2012-01-05   51.698215   51.698215    1.016536    0.304961\n",
       "2012-01-06   52.238651   52.238651    1.027163    0.308149\n",
       "2012-01-09   52.155792   52.155792    1.025533    0.307660\n",
       "...                ...         ...         ...         ...\n",
       "2020-05-22  318.890015  318.890015    6.270298    1.881089\n",
       "2020-05-26  316.730011  316.730011    6.227826    1.868348\n",
       "2020-05-27  318.109985  318.109985    6.254960    1.876488\n",
       "2020-05-28  318.250000  318.250000    6.257713    1.877314\n",
       "2020-05-29  318.690002  318.690002    6.266365    1.879910\n",
       "\n",
       "[2115 rows x 4 columns]"
      ]
     },
     "execution_count": 229,
     "metadata": {},
     "output_type": "execute_result"
    }
   ],
   "source": [
    "app"
   ]
  },
  {
   "cell_type": "code",
   "execution_count": null,
   "metadata": {},
   "outputs": [],
   "source": []
  },
  {
   "cell_type": "code",
   "execution_count": null,
   "metadata": {},
   "outputs": [],
   "source": []
  }
 ],
 "metadata": {
  "kernelspec": {
   "display_name": "Python 3",
   "language": "python",
   "name": "python3"
  },
  "language_info": {
   "codemirror_mode": {
    "name": "ipython",
    "version": 3
   },
   "file_extension": ".py",
   "mimetype": "text/x-python",
   "name": "python",
   "nbconvert_exporter": "python",
   "pygments_lexer": "ipython3",
   "version": "3.6.8"
  }
 },
 "nbformat": 4,
 "nbformat_minor": 2
}
